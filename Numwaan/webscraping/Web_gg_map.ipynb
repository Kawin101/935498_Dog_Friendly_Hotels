{
  "cells": [
    {
      "cell_type": "markdown",
      "metadata": {
        "colab_type": "text",
        "id": "view-in-github"
      },
      "source": [
        "<a href=\"https://colab.research.google.com/github/Kawin101/935498_final-project/blob/main/Web_Scraping.ipynb\" target=\"_parent\"><img src=\"https://colab.research.google.com/assets/colab-badge.svg\" alt=\"Open In Colab\"/></a>"
      ]
    },
    {
      "cell_type": "markdown",
      "metadata": {},
      "source": []
    },
    {
      "cell_type": "code",
      "execution_count": 1,
      "metadata": {},
      "outputs": [
        {
          "name": "stdout",
          "output_type": "stream",
          "text": [
            "['\\n\\n\\n\\n\\n9fa7578f2a4ade897e55cfe57257c97a.jpg (43.62 KB, ดาวน์โหลดแล้ว: 15)\\n\\nดาวน์โหลด\\n\\n\\xa0บันทึกไว้ในอัลบั้ม\\n\\n2015-5-22 23:55 อัปโหลด\\n\\n\\n\\n\\n\\n', 'คอนโดสัตว์เลี้ยงเข้าพักได้ สำหรับคนรักหมาแมว หาที่พัก คอนโดราคาไม่แพง ราคาถูก หรือ หอพัก บ้านพัก ที่ให้น้องหมาแมว เข้าไปอยู่ด้วยได้ วันนี้มาแนะนำ กัน', '\\n\\n\\n\\n\\n142924bhrin6hea26izser.jpg (167.95 KB, ดาวน์โหลดแล้ว: 5)\\n\\nดาวน์โหลด\\n\\n\\xa0บันทึกไว้ในอัลบั้ม\\n\\n2018-10-6 15:01 อัปโหลด\\n\\n\\n\\n\\n', 'คอนโดเลี้ยงสัตว์ได้ คนรักหมา แมว เข้าพักได้ มีมากว่า 15 คอนโดที่รักสัตว์เลี้ยง \\n', 'Pet Friendly Condos แบบให้เช่าและซื้อ ห้องหรูหรา คลิก !!']\n"
          ]
        }
      ],
      "source": [
        "import requests\n",
        "from bs4 import BeautifulSoup\n",
        "\n",
        "url = \"https://www.dogthailand.net/forum.php?mod=viewthread&tid=66090&extra=page%3D1\"\n",
        "data = requests.get(url,headers={\"User-Agent\":\"Mozilla/5.0\"})\n",
        "soup = BeautifulSoup(data.text, 'html.parser')\n",
        "\n",
        "data1 = soup.find_all(\"div\",{\"align\":\"left\"})\n",
        "data1_list=[]\n",
        "\n",
        "for item in data1:\n",
        "    data1_list.append(item.text)\n",
        "\n",
        "print(data1_list)"
      ]
    },
    {
      "cell_type": "code",
      "execution_count": 10,
      "metadata": {},
      "outputs": [
        {
          "name": "stdout",
          "output_type": "stream",
          "text": [
            "Title: 1. Bangsaen Heritage Hotel บางแสน ชลบุรี\n",
            "Description: 10 ที่เที่ยววันหยุด 2 วัน 1 คืน งบพันนิดๆ ทริปสั้นๆ เที่ยวไหนดี\n",
            "_____\n",
            "Tag ที่อยู่ : 23/9 ซอยใบบัว ถนนบางแสน-อ่างศิลา ตำบลอ่างศิลา อำเภอเมืองชลบุรี จังหวัดชลบุรีพิกัด : https://goo.gl/maps/xerynftqzARMymib7โทร : 08-1782-9239เว็บไซต์ : https://www.facebook.com/Tamarina-Resort\n"
          ]
        }
      ],
      "source": [
        "import requests\n",
        "from bs4 import BeautifulSoup\n",
        "\n",
        "# Define the URL to scrape\n",
        "url = \"https://travel.trueid.net/detail/rDvYykOdorNR\"\n",
        "\n",
        "# Send an HTTP request to the URL\n",
        "response = requests.get(url)\n",
        "\n",
        "# Check if the request was successful\n",
        "if response.status_code == 200:\n",
        "    # Parse the HTML content of the page\n",
        "    soup = BeautifulSoup(response.text, 'html.parser')\n",
        "\n",
        "    # Example: Extract the title of the page style=\"text-align:center\"\n",
        "    title = soup.find('h3', style='text-align:center').text.strip()\n",
        "\n",
        "    # Example: Extract the description\n",
        "    description = soup.find('li').text.strip()\n",
        "\n",
        "    for tags in soup.find_all('h3'):\n",
        "        tags.text\n",
        "    for ta in soup.find_all('ul'):\n",
        "        ta.text\n",
        "\n",
        "    # Print the extracted data\n",
        "    print(\"Title:\", title)\n",
        "    print(\"Description:\", description)\n",
        "    print(\"_____\")\n",
        "    print(tags.text,ta.text)\n",
        "\n",
        "\n",
        "else:\n",
        "    print(\"Failed to retrieve the web page. Status code:\", response.status_code)"
      ]
    },
    {
      "cell_type": "code",
      "execution_count": 1,
      "metadata": {},
      "outputs": [
        {
          "name": "stdout",
          "output_type": "stream",
          "text": [
            "head_tag ->     Google Maps                               \n",
            "------------\n"
          ]
        }
      ],
      "source": [
        "#https://www.google.co.th/maps/search/%E0%B9%82%E0%B8%A3%E0%B8%87%E0%B9%81%E0%B8%A3%E0%B8%A1%E0%B8%AA%E0%B8%B8%E0%B8%99%E0%B8%B1%E0%B8%82%E0%B9%80%E0%B8%82%E0%B9%89%E0%B8%B2%E0%B8%9E%E0%B8%B1%E0%B8%81%E0%B9%84%E0%B8%94%E0%B9%89+\n",
        "\n",
        "import requests #รีควล\n",
        "from bs4 import BeautifulSoup #soup ดึงข้อมูล\n",
        "import urllib #urllib นี้สามารถเข้าถึงข้อมูลและดึงข้อมูลได้ไม่ว่าจะเป็น GET และ POST โดยไลบรารี urllib\n",
        "\n",
        "\n",
        "url = 'https://www.google.co.th/maps/search/%E0%B9%82%E0%B8%A3%E0%B8%87%E0%B9%81%E0%B8%A3%E0%B8%A1%E0%B8%AA%E0%B8%B8%E0%B8%99%E0%B8%B1%E0%B8%82%E0%B9%80%E0%B8%82%E0%B9%89%E0%B8%B2%E0%B8%9E%E0%B8%B1%E0%B8%81%E0%B9%84%E0%B8%94%E0%B9%89+%E0%B8%A0%E0%B8%B2%E0%B8%84%E0%B9%80%E0%B8%AB%E0%B8%99%E0%B8%B7%E0%B8%AD'\n",
        "page = urllib.request.urlopen(url)\n",
        "# page = requests.get(url) \n",
        "\n",
        "soup = BeautifulSoup(page, 'html.parser')\n",
        "\n",
        "head_tag = soup.head\n",
        "print(\"head_tag ->\",head_tag.text)\n",
        "\n",
        "title = soup.find_all('a', class_='hfpxzc')\n",
        "for ta in title:\n",
        "    print(ta.text)\n",
        "print(\"------------\")\n"
      ]
    },
    {
      "cell_type": "code",
      "execution_count": 9,
      "metadata": {},
      "outputs": [
        {
          "name": "stdout",
          "output_type": "stream",
          "text": [
            "head_tag ->     Google Maps                               \n",
            "------------\n",
            "[]\n"
          ]
        }
      ],
      "source": [
        "#https://www.google.com/maps/search/%E0%B9%82%E0%B8%A3%E0%B8%87%E0%B9%81%E0%B8%A3%E0%B8%A1%E0%B8%AA%E0%B8%B8%E0%B8%99%E0%B8%B1%E0%B8%82%E0%B9%80%E0%B8%82%E0%B9%89%E0%B8%B2%E0%B8%9E%E0%B8%B1%E0%B8%81%E0%B9%84%E0%B8%94%E0%B9%89%E0%B9%83%E0%B8%99%E0%B8%9B%E0%B8%A3%E0%B8%B0%E0%B9%80%E0%B8%97%E0%B8%A8%E0%B9%84%E0%B8%97%E0%B8%A2/@15.6393579,97.6344063,7z/data=!4m4!2m3!5m1!13e8!6e3?entry=ttu\n",
        "\n",
        "import requests #รีควล\n",
        "from bs4 import BeautifulSoup #soup ดึงข้อมูล\n",
        "import urllib #urllib นี้สามารถเข้าถึงข้อมูลและดึงข้อมูลได้ไม่ว่าจะเป็น GET และ POST โดยไลบรารี urllib\n",
        "\n",
        "\n",
        "url = 'https://www.google.com/maps/search/Hotels+for+dogs+in+Thailand/@15.5973873,97.6119235,7z/data=!3m1!4b1?entry=ttu'\n",
        "page = urllib.request.urlopen(url)\n",
        "# page = requests.get(url) \n",
        "\n",
        "soup = BeautifulSoup(page, 'html.parser')\n",
        "\n",
        "head_tag = soup.head\n",
        "print(\"head_tag ->\",head_tag.text)\n",
        "\n",
        "t = soup.find_all('a', class_='qBF1Pd')\n",
        "for data in t:\n",
        "    print(data)\n",
        "print(\"------------\")\n",
        "\n",
        "data1 = soup.find_all(\"a\",{\"class\":\"qBF1Pd\"})\n",
        "data1_list=[]\n",
        "\n",
        "for item in data1:\n",
        "    data1_list.append(item.text)\n",
        "\n",
        "print(data1_list)"
      ]
    },
    {
      "cell_type": "code",
      "execution_count": 1,
      "metadata": {},
      "outputs": [
        {
          "ename": "SyntaxError",
          "evalue": "unmatched ']' (<unknown>, line 1)",
          "output_type": "error",
          "traceback": [
            "Traceback \u001b[1;36m(most recent call last)\u001b[0m:\n",
            "\u001b[0m  File \u001b[0;32m~\\AppData\\Roaming\\Python\\Python312\\site-packages\\IPython\\core\\interactiveshell.py:3550\u001b[0m in \u001b[0;35mrun_code\u001b[0m\n    exec(code_obj, self.user_global_ns, self.user_ns)\u001b[0m\n",
            "\u001b[0m  Cell \u001b[0;32mIn[1], line 11\u001b[0m\n    data = literal_eval(g.replace('null', 'None').replace('\\\\\"', '\"'))\u001b[0m\n",
            "\u001b[0m  File \u001b[0;32mc:\\Users\\Thidarat\\AppData\\Local\\Programs\\Python\\Python312\\Lib\\ast.py:66\u001b[0m in \u001b[0;35mliteral_eval\u001b[0m\n    node_or_string = parse(node_or_string.lstrip(\" \\t\"), mode='eval')\u001b[0m\n",
            "\u001b[1;36m  File \u001b[1;32mc:\\Users\\Thidarat\\AppData\\Local\\Programs\\Python\\Python312\\Lib\\ast.py:52\u001b[1;36m in \u001b[1;35mparse\u001b[1;36m\n\u001b[1;33m    return compile(source, filename, mode, flags,\u001b[1;36m\n",
            "\u001b[1;36m  File \u001b[1;32m<unknown>:1\u001b[1;36m\u001b[0m\n\u001b[1;33m    [\"https://streetviewpixels-pa.googleapis.com/v1/thumbnail?panoid\\\\u003dbJKCtFAk0aPllgL7r7_SvA\\\\u0026cb_client\\\\u003dsearch.gws-prod.gps\\\\u0026w\\\\u003d211\\\\u0026h\\\\u003d120\\\\u0026yaw\\\\u003d251.93144\\\\u0026pitch\\\\u003d0\\\\u0026thumbfov\\\\u003d100\",\"\",None,[211,120]],None,[[3,-147.84706731091077,64.83021646990473],[251.93144,90],[1024,768],75],\"ZTWUZb78IcGPseMP49S_-Aw\",\"0ahUKEwj-wpPei7-DAxXBR2wGHWPqD88QkI4GCDEoAA\",None,None,None,None,[[[\"0x51325b1733fa71bf:0xd609c9524d75cbc7\"]]],None,[\"4438 Airport Way, Fairbanks, AK 99709, United States\"],None,None,\"Street View\",[None,[2,\"bJKCtFAk0aPllgL7r7_SvA\"],[2,2,None,[]],None,None,[[[2],[[None,None,64.83021646990473,-147.84706731091077],None,[125.696785,90.73014,359.92883]]]],[3,None,None,[2],None,[None,None,\"launch\",[6]],None,None,[2023,12,28,14]],None,None,None,None,None,None,None,None,None,None,None,None,[\"GEO_PHOTO_REFERENCE\",\"IMAGE_ALLEYCAT|bJKCtFAk0aPllgL7r7_SvA\",\"1\"]],2,None,None,None,None,None,None,[\"5850839021122122175\",\"-3023664319478510649\"],None,\"ugDTzym9dks\"],[\"AF1QipO8rcmkKX9K4JomjJapOCePY0lOpXvZMO3bBnDH\",10,12,\"Bacon, jalapeno and pepper jack cheese burger.\",None,819.1356,[\"https://lh5.googleusercontent.com/p/AF1QipO8rcmkKX9K4JomjJapOCePY0lOpXvZMO3bBnDH\\\\u003dw213-h120-k-no\",\"1369+ Photos\",[5248,2952],[141,120]],None,[[3,-147.8472175,64.83028809999999],[0,90],[5248,2952],75],\"ZTWUZb78IcGPseMP49S_-Aw\",\"0ahUKEwj-wpPei7-DAxXBR2wGHWPqD88QzCcIMigB\",None,None,None,None,[[[\"0x51325b1733fa71bf:0xd609c9524d75cbc7\"]]],None,[\"4438 Airport Way, Fairbanks, AK 99709, United States\"],None,None,\"Photo\",[None,[10,\"AF1QipO8rcmkKX9K4JomjJapOCePY0lOpXvZMO3bBnDH\"],[10,3,[2952,5248]],None,None,[[[2],[[None,None,64.83028809999999,-147.8472175]]]],[2,None,None,[8],2,[None,None,\"photos:gmm_android\",[6,7,4,1,3]],None,None,[2018,1,26,5]],None,None,None,None,None,None,None,None,None,None,None,None,[\"UGCS_REFERENCE\",\"CIHM0ogKEICAgID4jd2u2wE||\",\"1\"]],1,None,None,None,None,None,None,[\"5850839021122122175\",\"-3023664319478510649\"],None,\"a4Q4MUOrHjc\"]],1369,None,\"ZTWUZb78IcGPseMP49S_-Aw\",None,\"EvgDKYQi49-NlUMIDwAAAAEAAAMAAAAAAAAAAAAAAAAAAAAAAAAAAABAAAAAAAAAIAAAAAAAAAAAAAAAAAAAAAAAAAAAAAAAAAAAAAAAAAAAAAAAAAAAAAAAAAAAAAAAAAAAAAAAAAAAAAAAAAAAAAAAAAAAAAAAAAAAAAAAAAAAAAAAAAAAAAAAAAAAAAAAAAAAAAAAAAAAAAAAAAAAAAgAAAAAAAACAAAAAAAAAAAAAAAAAAAAAAAAAAAAAAAAAAAAAAAAAAAAAAAAAAAAAAAAEAAAAAAAAAAAAAAAAAAAAAAAAAAAAAAAAAAAAAAIAAAAAAAAAAAAAAAAAAAAAAAAACAAAAAAAAAAAAAAAAAAAAAAAAAAAAAAAAAAAAAAAAABAAAAAAAAAAAAAAAAAAAAAAAAAAAAAAAAAAAAAAAAAAAAAAAAABAAAAAAAAAAAAAAAAAAAAAAAAAAAAAAAAAAAAAAAgAAAAAAAAAAAAAgAAAAAAAAAAAAAAAAAABAAAAAAAAAAAAAAAAAAAAAABAAAAAAAAAAAAAAAAAIAAAAAAAAAAAAAAAAAAAAAAAAAAAAAAAAAAAAAAAAAAAAAAAAAgAAAAAAAAAAAAAAAAAAAAAAAAAAAAAAAAAAAAAAAAAAAAAAAAAAAAAAAAAAAAAAAAAAAAAAAAAAGAVCVCmEIuPfjZVD6AEAACAAAAADAAAACAAAABAACAAAAwAAAAAAAAAAAAAAIAAQAAIAAAAAAABAAAAAAEAAAAAAAgAAAAAACBAAIAAAAAAAIAAAAAAAAA\",None,None,[[[1,196]],1,None,1,198]],[\"/url?q\\\\u003dhttp://pikes-landing.com/assets/2018_pikes_pl_lunchmenu04_27_2018.pdf\\\\u0026opi\\\\u003d79508299\\\\u0026sa\\\\u003dU\\\\u0026ved\\\\u003d0ahUKEwj-wpPei7-DAxXBR2wGHWPqD88QqRkIJygT\\\\u0026usg\\\\u003dAOvVaw1xYKuyACUwSHSd7jH89rBA\",\"pikes-landing.com\",None,\"0ahUKEwj-wpPei7-DAxXBR2wGHWPqD88QqRkIJygT\"],\"4438 Airport Way, Fairbanks, AK 99709, United States\",None,None,\"https://www.google.com/maps/preview/place/Pike's+Landing,+4438+Airport+Way,+Fairbanks,+AK+99709,+United+States/@64.8299726,-147.8488249,1697a,13.1y/data\\\\u003d!4m2!3m1!1s0x51325b1733fa71bf:0xd609c9524d75cbc7\",1,None,None,None,None,None,None,None,None,[[[[\"/url?q\\\\u003dhttps://www.google.com/maps/contrib/102908115927136138583%3Fhl%3Den-US\\\\u0026opi\\\\u003d79508299\\\\u0026sa\\\\u003dU\\\\u0026ved\\\\u003d0ahUKEwj-wpPei7-DAxXBR2wGHWPqD88Q4h4INygA\\\\u0026usg\\\\u003dAOvVaw1kDrSH_v2KZ7ussGgfCd-S\",\"Mike Vasquez\",\"https://lh3.googleusercontent.com/a-/ALV-UjWDSRTF8Eqo6RLX9P9nWwkhp3pKQK5A5NgdB37rSOz2IA\\\\u003ds120-c-rp-mo-br100\",\"0ahUKEwj-wpPei7-DAxXBR2wGHWPqD88Q4h4INygA\"],\"2 weeks ago\",None,\"What a great place to sit and enjoy a meal! The food is good and the staff is super friendly. The atmosphere is great,especially if you want to get out of -20° freezing weather. If you are a sports person, plenty of TVs to walk the game!\",5,None,\"102908115927136138583\",[\"https://www.google.com/local/review/rap/report?postId\\\\u003dChdDSUhNMG9nS0VJQ0FnSURWNDhYNW9RRRAB\\\\u0026entityid\\\\u003dChdDSUhNMG9nS0VJQ0FnSURWNDhYNW9RRRIsChZDSUhNMG9nS0VJQ0FnSURWNDhYNVlREhJDZ3NJOE56eHF3WVFxTmlBZXcaLQoXQ0lITTBvZ0tFSUNBZ0lEVjQ4WDU0UUUSEkNnc0k4Tnp4cXdZUXFOaUFldyISCb9x-jMXWzJREcfLdU1SyQnWKhJDZ3NJOE56eHF3WVFxTmlBZXc\\\\u0026wv\\\\u003d1\\\\u0026d\\\\u003d286732320\",\"Flag as inappropriate\",None,\"0ahUKEwj-wpPei7-DAxXBR2wGHWPqD88QoykIOigD\"],None,None,\"ChdDSUhNMG9nS0VJQ0FnSURWNDhYNW9RRRAB\",\"0ahUKEwj-wpPei7-DAxXBR2wGHWPqD88Q4R4INigA\",[None,[None,15,20,\"https://lh3.googleusercontent.com/a-/ALV-UjWDSRTF8Eqo6RLX9P9nWwkhp3pKQK5A5NgdB37rSOz2IA\\\\u003ds120-c-rp-mo-br100\",\"Mike Vasquez\",\"https://www.google.com/maps/contrib/102908115927136138583?hl\\\\u003den-US\",None,2,\"https://www.google.com/maps/contrib/102908115927136138583?hl\\\\u003den-US\",None,None,None,[\"15 reviews\",None,None,None,None,[None,\"0ahUKEwj-wpPei7-DAxXBR2wGHWPqD88Q7LoGCDkoAg\",1,3]\u001b[0m\n\u001b[1;37m                                                                                                                                                                                                                                                                                                                                                                                                                                                                                                                                                                                                                                                                                                                                                                                                                                                                                                                                                                                                                                                                 ^\u001b[0m\n\u001b[1;31mSyntaxError\u001b[0m\u001b[1;31m:\u001b[0m unmatched ']'\n"
          ]
        }
      ],
      "source": []
    }
  ],
  "metadata": {
    "colab": {
      "authorship_tag": "ABX9TyOfbR5vcQFz2ON0nwHQH3TA",
      "include_colab_link": true,
      "provenance": []
    },
    "kernelspec": {
      "display_name": "Python 3",
      "name": "python3"
    },
    "language_info": {
      "codemirror_mode": {
        "name": "ipython",
        "version": 3
      },
      "file_extension": ".py",
      "mimetype": "text/x-python",
      "name": "python",
      "nbconvert_exporter": "python",
      "pygments_lexer": "ipython3",
      "version": "3.12.1"
    }
  },
  "nbformat": 4,
  "nbformat_minor": 0
}
