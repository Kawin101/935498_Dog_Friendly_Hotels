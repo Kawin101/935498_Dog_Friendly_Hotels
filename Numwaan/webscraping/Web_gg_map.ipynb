{
  "cells": [
    {
      "cell_type": "markdown",
      "metadata": {
        "colab_type": "text",
        "id": "view-in-github"
      },
      "source": [
        "<a href=\"https://colab.research.google.com/github/Kawin101/935498_final-project/blob/main/Web_Scraping.ipynb\" target=\"_parent\"><img src=\"https://colab.research.google.com/assets/colab-badge.svg\" alt=\"Open In Colab\"/></a>"
      ]
    },
    {
      "cell_type": "markdown",
      "metadata": {},
      "source": []
    },
    {
      "cell_type": "code",
      "execution_count": 1,
      "metadata": {},
      "outputs": [
        {
          "name": "stdout",
          "output_type": "stream",
          "text": [
            "['\\n\\n\\n\\n\\n9fa7578f2a4ade897e55cfe57257c97a.jpg (43.62 KB, ดาวน์โหลดแล้ว: 15)\\n\\nดาวน์โหลด\\n\\n\\xa0บันทึกไว้ในอัลบั้ม\\n\\n2015-5-22 23:55 อัปโหลด\\n\\n\\n\\n\\n\\n', 'คอนโดสัตว์เลี้ยงเข้าพักได้ สำหรับคนรักหมาแมว หาที่พัก คอนโดราคาไม่แพง ราคาถูก หรือ หอพัก บ้านพัก ที่ให้น้องหมาแมว เข้าไปอยู่ด้วยได้ วันนี้มาแนะนำ กัน', '\\n\\n\\n\\n\\n142924bhrin6hea26izser.jpg (167.95 KB, ดาวน์โหลดแล้ว: 5)\\n\\nดาวน์โหลด\\n\\n\\xa0บันทึกไว้ในอัลบั้ม\\n\\n2018-10-6 15:01 อัปโหลด\\n\\n\\n\\n\\n', 'คอนโดเลี้ยงสัตว์ได้ คนรักหมา แมว เข้าพักได้ มีมากว่า 15 คอนโดที่รักสัตว์เลี้ยง \\n', 'Pet Friendly Condos แบบให้เช่าและซื้อ ห้องหรูหรา คลิก !!']\n"
          ]
        }
      ],
      "source": [
        "import requests\n",
        "from bs4 import BeautifulSoup\n",
        "\n",
        "url = \"https://www.dogthailand.net/forum.php?mod=viewthread&tid=66090&extra=page%3D1\"\n",
        "data = requests.get(url,headers={\"User-Agent\":\"Mozilla/5.0\"})\n",
        "soup = BeautifulSoup(data.text, 'html.parser')\n",
        "\n",
        "data1 = soup.find_all(\"div\",{\"align\":\"left\"})\n",
        "data1_list=[]\n",
        "\n",
        "for item in data1:\n",
        "    data1_list.append(item.text)\n",
        "\n",
        "print(data1_list)"
      ]
    },
    {
      "cell_type": "code",
      "execution_count": 10,
      "metadata": {},
      "outputs": [
        {
          "name": "stdout",
          "output_type": "stream",
          "text": [
            "Title: 1. Bangsaen Heritage Hotel บางแสน ชลบุรี\n",
            "Description: 10 ที่เที่ยววันหยุด 2 วัน 1 คืน งบพันนิดๆ ทริปสั้นๆ เที่ยวไหนดี\n",
            "_____\n",
            "Tag ที่อยู่ : 23/9 ซอยใบบัว ถนนบางแสน-อ่างศิลา ตำบลอ่างศิลา อำเภอเมืองชลบุรี จังหวัดชลบุรีพิกัด : https://goo.gl/maps/xerynftqzARMymib7โทร : 08-1782-9239เว็บไซต์ : https://www.facebook.com/Tamarina-Resort\n"
          ]
        }
      ],
      "source": [
        "import requests\n",
        "from bs4 import BeautifulSoup\n",
        "\n",
        "# Define the URL to scrape\n",
        "url = \"https://travel.trueid.net/detail/rDvYykOdorNR\"\n",
        "\n",
        "# Send an HTTP request to the URL\n",
        "response = requests.get(url)\n",
        "\n",
        "# Check if the request was successful\n",
        "if response.status_code == 200:\n",
        "    # Parse the HTML content of the page\n",
        "    soup = BeautifulSoup(response.text, 'html.parser')\n",
        "\n",
        "    # Example: Extract the title of the page style=\"text-align:center\"\n",
        "    title = soup.find('h3', style='text-align:center').text.strip()\n",
        "\n",
        "    # Example: Extract the description\n",
        "    description = soup.find('li').text.strip()\n",
        "\n",
        "    for tags in soup.find_all('h3'):\n",
        "        tags.text\n",
        "    for ta in soup.find_all('ul'):\n",
        "        ta.text\n",
        "\n",
        "    # Print the extracted data\n",
        "    print(\"Title:\", title)\n",
        "    print(\"Description:\", description)\n",
        "    print(\"_____\")\n",
        "    print(tags.text,ta.text)\n",
        "\n",
        "\n",
        "else:\n",
        "    print(\"Failed to retrieve the web page. Status code:\", response.status_code)"
      ]
    },
    {
      "cell_type": "code",
      "execution_count": 7,
      "metadata": {},
      "outputs": [
        {
          "name": "stdout",
          "output_type": "stream",
          "text": [
            "head_tag ->    Google Maps                               \n",
            "------------\n"
          ]
        }
      ],
      "source": [
        "#https://www.google.co.th/maps/search/%E0%B9%82%E0%B8%A3%E0%B8%87%E0%B9%81%E0%B8%A3%E0%B8%A1%E0%B8%AA%E0%B8%B8%E0%B8%99%E0%B8%B1%E0%B8%82%E0%B9%80%E0%B8%82%E0%B9%89%E0%B8%B2%E0%B8%9E%E0%B8%B1%E0%B8%81%E0%B9%84%E0%B8%94%E0%B9%89+\n",
        "\n",
        "import requests #รีควล\n",
        "from bs4 import BeautifulSoup #soup ดึงข้อมูล\n",
        "import urllib #urllib นี้สามารถเข้าถึงข้อมูลและดึงข้อมูลได้ไม่ว่าจะเป็น GET และ POST โดยไลบรารี urllib\n",
        "\n",
        "\n",
        "url = 'https://www.google.co.th/maps/search/%E0%B9%82%E0%B8%A3%E0%B8%87%E0%B9%81%E0%B8%A3%E0%B8%A1%E0%B8%AA%E0%B8%B8%E0%B8%99%E0%B8%B1%E0%B8%82%E0%B9%80%E0%B8%82%E0%B9%89%E0%B8%B2%E0%B8%9E%E0%B8%B1%E0%B8%81%E0%B9%84%E0%B8%94%E0%B9%89+%E0%B8%A0%E0%B8%B2%E0%B8%84%E0%B9%80%E0%B8%AB%E0%B8%99%E0%B8%B7%E0%B8%AD'\n",
        "page = urllib.request.urlopen(url)\n",
        "# page = requests.get(url) \n",
        "\n",
        "soup = BeautifulSoup(page, 'html.parser')\n",
        "\n",
        "head_tag = soup.head\n",
        "print(\"head_tag ->\",head_tag.text)\n",
        "\n",
        "title = soup.find_all('a', class_='hfpxzc')\n",
        "for ta in title:\n",
        "    print(ta.text)\n",
        "print(\"------------\")\n"
      ]
    }
  ],
  "metadata": {
    "colab": {
      "authorship_tag": "ABX9TyOfbR5vcQFz2ON0nwHQH3TA",
      "include_colab_link": true,
      "provenance": []
    },
    "kernelspec": {
      "display_name": "Python 3",
      "name": "python3"
    },
    "language_info": {
      "codemirror_mode": {
        "name": "ipython",
        "version": 3
      },
      "file_extension": ".py",
      "mimetype": "text/x-python",
      "name": "python",
      "nbconvert_exporter": "python",
      "pygments_lexer": "ipython3",
      "version": "3.12.0"
    }
  },
  "nbformat": 4,
  "nbformat_minor": 0
}
