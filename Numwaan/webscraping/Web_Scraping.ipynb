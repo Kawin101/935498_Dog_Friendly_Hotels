{
  "cells": [
    {
      "cell_type": "markdown",
      "metadata": {
        "colab_type": "text",
        "id": "view-in-github"
      },
      "source": [
        "<a href=\"https://colab.research.google.com/github/Kawin101/935498_final-project/blob/main/Web_Scraping.ipynb\" target=\"_parent\"><img src=\"https://colab.research.google.com/assets/colab-badge.svg\" alt=\"Open In Colab\"/></a>"
      ]
    },
    {
      "cell_type": "code",
      "execution_count": 1,
      "metadata": {
        "colab": {
          "base_uri": "https://localhost:8080/"
        },
        "id": "ZM902c9Op5Bk",
        "outputId": "827124ed-75cd-4fb1-9276-b02b29db8bcf"
      },
      "outputs": [
        {
          "name": "stdout",
          "output_type": "stream",
          "text": [
            "Title: 12 ที่พักหมาแมวพักได้ ใกล้กรุงเทพ อัปเดต 2566 พาน้องไปด้วย ชิลสุดๆ\n",
            "Specific Element: None\n"
          ]
        }
      ],
      "source": [
        "import requests\n",
        "from bs4 import BeautifulSoup\n",
        "\n",
        "# Send an HTTP GET request to the URL\n",
        "url = \"https://travel.trueid.net/detail/rDvYykOdorNR\"\n",
        "response = requests.get(url)\n",
        "\n",
        "# Check if the request was successful\n",
        "if response.status_code == 200:\n",
        "    # Parse the HTML content of the page\n",
        "    soup = BeautifulSoup(response.text, 'html.parser')\n",
        "\n",
        "    # Extract information from the page by selecting HTML elements\n",
        "    # Example: Get the title of the page\n",
        "    title = soup.find('title').text\n",
        "\n",
        "    # Example: Get a specific element by class name\n",
        "    specific_element = soup.find('div', class_='your-class-name')\n",
        "\n",
        "    # Print the results\n",
        "    print(\"Title:\", title)\n",
        "    print(\"Specific Element:\", specific_element)\n",
        "\n",
        "else:\n",
        "    print(\"Failed to retrieve the page. Status code:\", response.status_code)\n"
      ]
    },
    {
      "cell_type": "code",
      "execution_count": 5,
      "metadata": {
        "colab": {
          "base_uri": "https://localhost:8080/"
        },
        "id": "MJZITIWlqIvo",
        "outputId": "7ec2fb7c-084c-41f4-d7b3-4b3df855ae9e"
      },
      "outputs": [
        {
          "name": "stdout",
          "output_type": "stream",
          "text": [
            "1. Bangsaen Heritage Hotel บางแสน ชลบุรี\n",
            "2. Hill Fresco Hotel Pattaya พัทยา ชลบุรี\n",
            "3. ปราณบุรี ดีไลท์ รีสอร์ท ปราณบุรี ประจวบคีรีขันธ์\n",
            "4. Anantasila Villa by the sea Hua Hin หัวหิน ประจวบคีรีขันธ์\n",
            "5. Baan Mesuk Pool Villa Spa & Resort ชะอำ เพชรบุรี\n",
            "6. Bandara On Sea Rayong ระยอง\n",
            "7. Thames Valley Khaoyai Hotel เขาใหญ่ นครราชสีมา\n",
            "8. Limon Villa Khao Yai เขาใหญ่ นครราชสีมา\n",
            "9. Thawsi Lake Hill กาญจนบุรี\n",
            "10. กอดอุ่น ริเวอร์แคว รีสอร์ท กาญจนบุรี\n",
            "11. Merito Beach Resort หาดเจ้าสำราญ เพชรบุรี\n",
            "12. Tamarina Resort บางแสน ชลบุรี\n",
            "Tag\n",
            "10 ที่เที่ยววันหยุด 2 วัน 1 คืน งบพันนิดๆ ทริปสั้นๆ เที่ยวไหนดี12 โรงแรมแมว กรุงเทพ ฝากแมว ก่อนไปเที่ยววันหยุดยาว ชิลได้ไม่ต้องห่วงเจ้าเหมียว!\n",
            "ที่อยู่ : ถนนบางแสน สาย 1 ตำบลแสนสุข อำเภอเมืองชลบุรี จังหวัดชลบุรีพิกัด : https://goo.gl/maps/wM8mkwniffjTo4q36โทร : 0-3839-9899เว็บไซต์ : https://www.facebook.com/bsheritagehotel\n",
            "ที่อยู่ : 359/109 หมู่ 12 ถนนพระตำหนัก อำเภอบางละมุง จังหวัดชลบุรีพิกัด : https://goo.gl/maps/9WgBfRHV8ytCjjhN9โทร : 08-1353-5224เว็บไซต์ : https://www.facebook.com/HillFrescopattaya\n",
            "ที่อยู่ : 177 หมู่ที่ 1 ตำบลสามร้อยยอด อำเภอปราณบุรี จังหวัดประจวบคีรีขันธ์พิกัด : https://goo.gl/maps/y9qb5Z4Yuy5xqq9X7โทร : 08-1171-0809เว็บไซต์ : https://www.facebook.com/pranburidelight\n",
            "ที่อยู่ : 9/1 ซอยบ้านสวนสน ตำบลหนองแก อำเภอหัวหิน จังหวัดประจวบคีรีขันธ์พิกัด : https://goo.gl/maps/VwG66H5LUQxroVTu8โทร : 08-1648-8364เว็บไซต์ : https://www.facebook.com/anantasila\n",
            "ที่อยู่ : 1500 ถนนชลประทาน ตำบลชะอำ อำเภอชะอำ จังหวัดเพชรบุรีพิกัด : https://goo.gl/maps/MTrQU7qHeApRhNdN7โทร : -เว็บไซต์ : https://www.facebook.com/baanmesukpoolvilla\n",
            "ที่อยู่ : 151 หมู่ 3  ตำบลชากพง อำเภอแกลง จังหวัดระยองพิกัด : https://goo.gl/maps/Lyya9Q393cmwjy5F8โทร : 0-3864-8550เว็บไซต์ : https://www.facebook.com/BandaraRayong\n",
            "ที่อยู่ : 999 หมู่ 4 ตำบลหมูสี อำเภอปากช่อง จังหวัดนครราชสีมาพิกัด : https://goo.gl/maps/4YACth2Qd5zvSxZTAโทร : 0-4400-9999เว็บไซต์ : https://www.facebook.com/ThamesValleyKhaoyaiHotel\n",
            "ที่อยู่ : 40/1 หมู่ 4 ตำบลโป่งตาลอง อำเภอปากช่อง จังหวัดนครราชสีมา พิกัด : https://goo.gl/maps/36FGkX6zR6VjGBS7Aโทร : 0-4430-0561เว็บไซต์ : https://www.facebook.com/limonvillakhaoyai\n",
            "ที่อยู่ : ตำบลท่ากระดาน อำเภอศรีสวัสดิ์ จังหวัดกาญจนบุรี พิกัด : https://goo.gl/maps/wpMRiA46t1xGMdBZ7โทร : 09-2927-7889เว็บไซต์ : https://www.facebook.com/thawsilakehill\n",
            "ที่อยู่ : 167 หมู่2​ ตำบล​วังดัง อำเภอเมืองกาญจนบุรี จังหวัดกาญจนบุรีพิกัด : https://goo.gl/maps/SqMaZrbG9otNvFwz5 โทร : 08-2755-2222เว็บไซต์ : https://www.facebook.com/กอดอุ่น-ริเวอร์แคว-รีสอร์ท\n",
            "ที่อยู่ : 150 หมู่ 2 ตำบลหาดเจ้าสำราญ อำเภอเมืองเพชรบุรี จังหวัดเพชรบุรีพิกัด : https://goo.gl/maps/yitCa2xyLDrCaMEAAโทร : 08-6001-3499เว็บไซต์ : https://www.facebook.com/เมอร์ริโต้-บีช-รีสอร์ท\n",
            "ที่อยู่ : 23/9 ซอยใบบัว ถนนบางแสน-อ่างศิลา ตำบลอ่างศิลา อำเภอเมืองชลบุรี จังหวัดชลบุรีพิกัด : https://goo.gl/maps/xerynftqzARMymib7โทร : 08-1782-9239เว็บไซต์ : https://www.facebook.com/Tamarina-Resort\n"
          ]
        }
      ],
      "source": [
        "import requests #รีควล\n",
        "from bs4 import BeautifulSoup #soup ดึงข้อมูล\n",
        "import urllib #urllib นี้สามารถเข้าถึงข้อมูลและดึงข้อมูลได้ไม่ว่าจะเป็น GET และ POST โดยไลบรารี urllib\n",
        "\n",
        "url = 'https://travel.trueid.net/detail/rDvYykOdorNR'\n",
        "page = urllib.request.urlopen(url)\n",
        "\n",
        "soup = BeautifulSoup(page, 'html.parser')\n",
        "\n",
        "# con = soup.find_all(\"h3\")\n",
        "# print(con.encode('utf-8'))\n",
        "\n",
        "for tags in soup.find_all('h3'):\n",
        "    print(tags.text)\n",
        "\n",
        "for ta in soup.find_all('ul'):\n",
        "    print(ta.text)"
      ]
    },
    {
      "cell_type": "code",
      "execution_count": 116,
      "metadata": {},
      "outputs": [
        {
          "name": "stdout",
          "output_type": "stream",
          "text": [
            "head_tag -> 12 ที่พักหมาแมวพักได้ ใกล้กรุงเทพ อัปเดต 2566 พาน้องไปด้วย ชิลสุดๆ\n",
            "1. Bangsaen Heritage Hotel บางแสน ชลบุรี\n",
            "2. Hill Fresco Hotel Pattaya พัทยา ชลบุรี\n",
            "3. ปราณบุรี ดีไลท์ รีสอร์ท ปราณบุรี ประจวบคีรีขันธ์\n",
            "4. Anantasila Villa by the sea Hua Hin หัวหิน ประจวบคีรีขันธ์\n",
            "5. Baan Mesuk Pool Villa Spa & Resort ชะอำ เพชรบุรี\n",
            "6. Bandara On Sea Rayong ระยอง\n",
            "7. Thames Valley Khaoyai Hotel เขาใหญ่ นครราชสีมา\n",
            "8. Limon Villa Khao Yai เขาใหญ่ นครราชสีมา\n",
            "9. Thawsi Lake Hill กาญจนบุรี\n",
            "10. กอดอุ่น ริเวอร์แคว รีสอร์ท กาญจนบุรี\n",
            "11. Merito Beach Resort หาดเจ้าสำราญ เพชรบุรี\n",
            "12. Tamarina Resort บางแสน ชลบุรี\n",
            "------------\n",
            "[1] ที่อยู่ : ถนนบางแสน สาย 1 ตำบลแสนสุข อำเภอเมืองชลบุรี จังหวัดชลบุรี\n",
            "[1] พิกัด : https://goo.gl/maps/wM8mkwniffjTo4q36\n",
            "[1] โทร : 0-3839-9899\n",
            "[1] เว็บไซต์ : https://www.facebook.com/bsheritagehotel\n",
            "------------\n",
            "[2] ที่อยู่ : 359/109 หมู่ 12 ถนนพระตำหนัก อำเภอบางละมุง จังหวัดชลบุรี\n",
            "[2] พิกัด : https://goo.gl/maps/9WgBfRHV8ytCjjhN9\n",
            "[2] โทร : 08-1353-5224\n",
            "[2] เว็บไซต์ : https://www.facebook.com/HillFrescopattaya\n",
            "------------\n",
            "[3] ที่อยู่ : 177 หมู่ที่ 1 ตำบลสามร้อยยอด อำเภอปราณบุรี จังหวัดประจวบคีรีขันธ์\n",
            "[3] พิกัด : https://goo.gl/maps/y9qb5Z4Yuy5xqq9X7\n",
            "[3] โทร : 08-1171-0809\n",
            "[3] เว็บไซต์ : https://www.facebook.com/pranburidelight\n",
            "------------\n",
            "[4] ที่อยู่ : 9/1 ซอยบ้านสวนสน ตำบลหนองแก อำเภอหัวหิน จังหวัดประจวบคีรีขันธ์\n",
            "[4] พิกัด : https://goo.gl/maps/VwG66H5LUQxroVTu8\n",
            "[4] โทร : 08-1648-8364\n",
            "[4] เว็บไซต์ : https://www.facebook.com/anantasila\n",
            "------------\n",
            "[5] ที่อยู่ : 1500 ถนนชลประทาน ตำบลชะอำ อำเภอชะอำ จังหวัดเพชรบุรี\n",
            "[5] พิกัด : https://goo.gl/maps/MTrQU7qHeApRhNdN7\n",
            "[5] โทร : -\n",
            "[5] เว็บไซต์ : https://www.facebook.com/baanmesukpoolvilla\n",
            "------------\n",
            "[6] ที่อยู่ : 151 หมู่ 3  ตำบลชากพง อำเภอแกลง จังหวัดระยอง\n",
            "[6] พิกัด : https://goo.gl/maps/Lyya9Q393cmwjy5F8\n",
            "[6] โทร : 0-3864-8550\n",
            "[6] เว็บไซต์ : https://www.facebook.com/BandaraRayong\n",
            "------------\n",
            "[7] ที่อยู่ : 999 หมู่ 4 ตำบลหมูสี อำเภอปากช่อง จังหวัดนครราชสีมา\n",
            "[7] พิกัด : https://goo.gl/maps/4YACth2Qd5zvSxZTA\n",
            "[7] โทร : 0-4400-9999\n",
            "[7] เว็บไซต์ : https://www.facebook.com/ThamesValleyKhaoyaiHotel\n",
            "------------\n",
            "[8] ที่อยู่ : 40/1 หมู่ 4 ตำบลโป่งตาลอง อำเภอปากช่อง จังหวัดนครราชสีมา \n",
            "[8] พิกัด : https://goo.gl/maps/36FGkX6zR6VjGBS7A\n",
            "[8] โทร : 0-4430-0561\n",
            "[8] เว็บไซต์ : https://www.facebook.com/limonvillakhaoyai\n",
            "------------\n",
            "[9] ที่อยู่ : ตำบลท่ากระดาน อำเภอศรีสวัสดิ์ จังหวัดกาญจนบุรี \n",
            "[9] พิกัด : https://goo.gl/maps/wpMRiA46t1xGMdBZ7\n",
            "[9] โทร : 09-2927-7889\n",
            "[9] เว็บไซต์ : https://www.facebook.com/thawsilakehill\n",
            "------------\n",
            "[10] ที่อยู่ : 167 หมู่2​ ตำบล​วังดัง อำเภอเมืองกาญจนบุรี จังหวัดกาญจนบุรี\n",
            "[10] พิกัด : https://goo.gl/maps/SqMaZrbG9otNvFwz5 \n",
            "[10] โทร : 08-2755-2222\n",
            "[10] เว็บไซต์ : https://www.facebook.com/กอดอุ่น-ริเวอร์แคว-รีสอร์ท\n",
            "------------\n",
            "[11] ที่อยู่ : 150 หมู่ 2 ตำบลหาดเจ้าสำราญ อำเภอเมืองเพชรบุรี จังหวัดเพชรบุรี\n",
            "[11] พิกัด : https://goo.gl/maps/yitCa2xyLDrCaMEAA\n",
            "[11] โทร : 08-6001-3499\n",
            "[11] เว็บไซต์ : https://www.facebook.com/เมอร์ริโต้-บีช-รีสอร์ท\n",
            "------------\n"
          ]
        }
      ],
      "source": [
        "import requests #รีควล\n",
        "from bs4 import BeautifulSoup #soup ดึงข้อมูล\n",
        "import urllib #urllib นี้สามารถเข้าถึงข้อมูลและดึงข้อมูลได้ไม่ว่าจะเป็น GET และ POST โดยไลบรารี urllib\n",
        "\n",
        "url = 'https://travel.trueid.net/detail/rDvYykOdorNR'\n",
        "page = urllib.request.urlopen(url)\n",
        "# page = requests.get(url) \n",
        "\n",
        "soup = BeautifulSoup(page, 'html.parser')\n",
        "\n",
        "head_tag = soup.head\n",
        "print(\"head_tag ->\",head_tag.text)\n",
        "\n",
        "title = soup.find_all('h3', style='text-align:center')\n",
        "for ta in title:\n",
        "    print(ta.text)\n",
        "print(\"------------\")\n",
        "\n",
        "\n",
        "for i in range(1, 12):\n",
        "    for tag in soup.find_all('ul')[i]:\n",
        "        print([i],tag.text)\n",
        "    print(\"------------\")\n"
      ]
    },
    {
      "cell_type": "code",
      "execution_count": 67,
      "metadata": {},
      "outputs": [
        {
          "name": "stderr",
          "output_type": "stream",
          "text": [
            "C:\\Users\\Thidarat.ma\\AppData\\Local\\Temp\\ipykernel_365476\\1917951335.py:17: DeprecationWarning: The 'text' argument to find()-type methods is deprecated. Use 'string' instead.\n",
            "  address = soup.find('li', text='ที่อยู่ :').text.split(' : ')[1]\n"
          ]
        },
        {
          "ename": "AttributeError",
          "evalue": "'NoneType' object has no attribute 'text'",
          "output_type": "error",
          "traceback": [
            "\u001b[1;31m---------------------------------------------------------------------------\u001b[0m",
            "\u001b[1;31mAttributeError\u001b[0m                            Traceback (most recent call last)",
            "\u001b[1;32mc:\\Users\\Thidarat.ma\\Documents\\935498_final-project\\Numwaan\\webscraping\\Web_Scraping.ipynb Cell 5\u001b[0m line \u001b[0;36m1\n\u001b[0;32m     <a href='vscode-notebook-cell:/c%3A/Users/Thidarat.ma/Documents/935498_final-project/Numwaan/webscraping/Web_Scraping.ipynb#W5sZmlsZQ%3D%3D?line=13'>14</a>\u001b[0m soup \u001b[39m=\u001b[39m BeautifulSoup(html, \u001b[39m'\u001b[39m\u001b[39mhtml.parser\u001b[39m\u001b[39m'\u001b[39m)\n\u001b[0;32m     <a href='vscode-notebook-cell:/c%3A/Users/Thidarat.ma/Documents/935498_final-project/Numwaan/webscraping/Web_Scraping.ipynb#W5sZmlsZQ%3D%3D?line=15'>16</a>\u001b[0m \u001b[39m# Extract the information\u001b[39;00m\n\u001b[1;32m---> <a href='vscode-notebook-cell:/c%3A/Users/Thidarat.ma/Documents/935498_final-project/Numwaan/webscraping/Web_Scraping.ipynb#W5sZmlsZQ%3D%3D?line=16'>17</a>\u001b[0m address \u001b[39m=\u001b[39m soup\u001b[39m.\u001b[39;49mfind(\u001b[39m'\u001b[39;49m\u001b[39mli\u001b[39;49m\u001b[39m'\u001b[39;49m, text\u001b[39m=\u001b[39;49m\u001b[39m'\u001b[39;49m\u001b[39mที่อยู่ :\u001b[39;49m\u001b[39m'\u001b[39;49m)\u001b[39m.\u001b[39;49mtext\u001b[39m.\u001b[39msplit(\u001b[39m'\u001b[39m\u001b[39m : \u001b[39m\u001b[39m'\u001b[39m)[\u001b[39m1\u001b[39m]\n\u001b[0;32m     <a href='vscode-notebook-cell:/c%3A/Users/Thidarat.ma/Documents/935498_final-project/Numwaan/webscraping/Web_Scraping.ipynb#W5sZmlsZQ%3D%3D?line=17'>18</a>\u001b[0m coordinates \u001b[39m=\u001b[39m soup\u001b[39m.\u001b[39mfind(\u001b[39m'\u001b[39m\u001b[39mli\u001b[39m\u001b[39m'\u001b[39m, text\u001b[39m=\u001b[39m\u001b[39m'\u001b[39m\u001b[39mพิกัด :\u001b[39m\u001b[39m'\u001b[39m)\u001b[39m.\u001b[39ma[\u001b[39m'\u001b[39m\u001b[39mhref\u001b[39m\u001b[39m'\u001b[39m]\n\u001b[0;32m     <a href='vscode-notebook-cell:/c%3A/Users/Thidarat.ma/Documents/935498_final-project/Numwaan/webscraping/Web_Scraping.ipynb#W5sZmlsZQ%3D%3D?line=18'>19</a>\u001b[0m phone \u001b[39m=\u001b[39m soup\u001b[39m.\u001b[39mfind(\u001b[39m'\u001b[39m\u001b[39mli\u001b[39m\u001b[39m'\u001b[39m, text\u001b[39m=\u001b[39m\u001b[39m'\u001b[39m\u001b[39mโทร :\u001b[39m\u001b[39m'\u001b[39m)\u001b[39m.\u001b[39mtext\u001b[39m.\u001b[39msplit(\u001b[39m'\u001b[39m\u001b[39m : \u001b[39m\u001b[39m'\u001b[39m)[\u001b[39m1\u001b[39m]\n",
            "\u001b[1;31mAttributeError\u001b[0m: 'NoneType' object has no attribute 'text'"
          ]
        }
      ],
      "source": [
        "from bs4 import BeautifulSoup\n",
        "\n",
        "# HTML code\n",
        "html = \"\"\"\n",
        "<ul>\n",
        "    <li>ที่อยู่ : ถนนบางแสน สาย 1 ตำบลแสนสุข อำเภอเมืองชลบุรี จังหวัดชลบุรี</li>\n",
        "    <li>พิกัด : <a href=\"https://goo.gl/maps/wM8mkwniffjTo4q36\" target=\"_blank\" rel=\"noopener\">https://goo.gl/maps/wM8mkwniffjTo4q36</a></li>\n",
        "    <li>โทร : 0-3839-9899</li>\n",
        "    <li>เว็บไซต์ : <a href=\"https://www.facebook.com/bsheritagehotel/\" target=\"_blank\" rel=\"noopener\">https://www.facebook.com/bsheritagehotel</a></li>\n",
        "</ul>\n",
        "\"\"\"\n",
        "\n",
        "# Parse the HTML using Beautiful Soup\n",
        "soup = BeautifulSoup(html, 'html.parser')\n",
        "\n",
        "# Extract the information\n",
        "address = soup.find('li', text='ที่อยู่ :').text.split(' : ')[1]\n",
        "coordinates = soup.find('li', text='พิกัด :').a['href']\n",
        "phone = soup.find('li', text='โทร :').text.split(' : ')[1]\n",
        "website = soup.find('li', text='เว็บไซต์ :').a['href']\n",
        "\n",
        "# Print the extracted data\n",
        "print(\"Address:\", address)\n",
        "print(\"Coordinates:\", coordinates)\n",
        "print(\"Phone:\", phone)\n",
        "print(\"Website:\", website)"
      ]
    },
    {
      "cell_type": "markdown",
      "metadata": {},
      "source": []
    }
  ],
  "metadata": {
    "colab": {
      "authorship_tag": "ABX9TyOfbR5vcQFz2ON0nwHQH3TA",
      "include_colab_link": true,
      "provenance": []
    },
    "kernelspec": {
      "display_name": "Python 3",
      "name": "python3"
    },
    "language_info": {
      "codemirror_mode": {
        "name": "ipython",
        "version": 3
      },
      "file_extension": ".py",
      "mimetype": "text/x-python",
      "name": "python",
      "nbconvert_exporter": "python",
      "pygments_lexer": "ipython3",
      "version": "3.12.0"
    }
  },
  "nbformat": 4,
  "nbformat_minor": 0
}
