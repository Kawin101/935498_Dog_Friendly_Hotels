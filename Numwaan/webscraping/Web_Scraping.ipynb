{
  "cells": [
    {
      "cell_type": "markdown",
      "metadata": {
        "colab_type": "text",
        "id": "view-in-github"
      },
      "source": [
        "<a href=\"https://colab.research.google.com/github/Kawin101/935498_final-project/blob/main/Web_Scraping.ipynb\" target=\"_parent\"><img src=\"https://colab.research.google.com/assets/colab-badge.svg\" alt=\"Open In Colab\"/></a>"
      ]
    },
    {
      "cell_type": "code",
      "execution_count": 1,
      "metadata": {
        "colab": {
          "base_uri": "https://localhost:8080/"
        },
        "id": "ZM902c9Op5Bk",
        "outputId": "827124ed-75cd-4fb1-9276-b02b29db8bcf"
      },
      "outputs": [
        {
          "name": "stdout",
          "output_type": "stream",
          "text": [
            "Title: 12 ที่พักหมาแมวพักได้ ใกล้กรุงเทพ อัปเดต 2566 พาน้องไปด้วย ชิลสุดๆ\n",
            "Specific Element: None\n"
          ]
        }
      ],
      "source": [
        "import requests\n",
        "from bs4 import BeautifulSoup\n",
        "\n",
        "# Send an HTTP GET request to the URL\n",
        "url = \"https://travel.trueid.net/detail/rDvYykOdorNR\"\n",
        "response = requests.get(url)\n",
        "\n",
        "# Check if the request was successful\n",
        "if response.status_code == 200:\n",
        "    # Parse the HTML content of the page\n",
        "    soup = BeautifulSoup(response.text, 'html.parser')\n",
        "\n",
        "    # Extract information from the page by selecting HTML elements\n",
        "    # Example: Get the title of the page\n",
        "    title = soup.find('title').text\n",
        "\n",
        "    # Example: Get a specific element by class name\n",
        "    specific_element = soup.find('div', class_='your-class-name')\n",
        "\n",
        "    # Print the results\n",
        "    print(\"Title:\", title)\n",
        "    print(\"Specific Element:\", specific_element)\n",
        "\n",
        "else:\n",
        "    print(\"Failed to retrieve the page. Status code:\", response.status_code)\n"
      ]
    },
    {
      "cell_type": "code",
      "execution_count": null,
      "metadata": {
        "colab": {
          "base_uri": "https://localhost:8080/"
        },
        "id": "MJZITIWlqIvo",
        "outputId": "7ec2fb7c-084c-41f4-d7b3-4b3df855ae9e"
      },
      "outputs": [
        {
          "name": "stdout",
          "output_type": "stream",
          "text": [
            "1. Bangsaen Heritage Hotel บางแสน ชลบุรี\n",
            "2. Hill Fresco Hotel Pattaya พัทยา ชลบุรี\n",
            "3. ปราณบุรี ดีไลท์ รีสอร์ท ปราณบุรี ประจวบคีรีขันธ์\n",
            "4. Anantasila Villa by the sea Hua Hin หัวหิน ประจวบคีรีขันธ์\n",
            "5. Baan Mesuk Pool Villa Spa & Resort ชะอำ เพชรบุรี\n",
            "6. Bandara On Sea Rayong ระยอง\n",
            "7. Thames Valley Khaoyai Hotel เขาใหญ่ นครราชสีมา\n",
            "8. Limon Villa Khao Yai เขาใหญ่ นครราชสีมา\n",
            "9. Thawsi Lake Hill กาญจนบุรี\n",
            "10. กอดอุ่น ริเวอร์แคว รีสอร์ท กาญจนบุรี\n",
            "11. Merito Beach Resort หาดเจ้าสำราญ เพชรบุรี\n",
            "12. Tamarina Resort บางแสน ชลบุรี\n",
            "Tag\n"
          ]
        }
      ],
      "source": [
        "import requests\n",
        "from bs4 import BeautifulSoup\n",
        "import urllib\n",
        "\n",
        "url = 'https://travel.trueid.net/detail/rDvYykOdorNR'\n",
        "page = urllib.request.urlopen(url)\n",
        "\n",
        "soup = BeautifulSoup(page, 'html.parser')\n",
        "\n",
        "# con = soup.find_all(\"h3\")\n",
        "# print(con.encode('utf-8'))\n",
        "\n",
        "for tags in soup.find_all('h3'):\n",
        "    print(tags.text)"
      ]
    }
  ],
  "metadata": {
    "colab": {
      "authorship_tag": "ABX9TyOfbR5vcQFz2ON0nwHQH3TA",
      "include_colab_link": true,
      "provenance": []
    },
    "kernelspec": {
      "display_name": "Python 3",
      "name": "python3"
    },
    "language_info": {
      "codemirror_mode": {
        "name": "ipython",
        "version": 3
      },
      "file_extension": ".py",
      "mimetype": "text/x-python",
      "name": "python",
      "nbconvert_exporter": "python",
      "pygments_lexer": "ipython3",
      "version": "3.12.0"
    }
  },
  "nbformat": 4,
  "nbformat_minor": 0
}
