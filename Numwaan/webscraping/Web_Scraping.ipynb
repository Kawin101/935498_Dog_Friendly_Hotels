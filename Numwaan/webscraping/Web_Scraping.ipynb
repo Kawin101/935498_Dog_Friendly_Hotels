{
  "cells": [
    {
      "cell_type": "markdown",
      "metadata": {
        "colab_type": "text",
        "id": "view-in-github"
      },
      "source": [
        "<a href=\"https://colab.research.google.com/github/Kawin101/935498_final-project/blob/main/Web_Scraping.ipynb\" target=\"_parent\"><img src=\"https://colab.research.google.com/assets/colab-badge.svg\" alt=\"Open In Colab\"/></a>"
      ]
    },
    {
      "cell_type": "code",
      "execution_count": 1,
      "metadata": {
        "colab": {
          "base_uri": "https://localhost:8080/"
        },
        "id": "ZM902c9Op5Bk",
        "outputId": "827124ed-75cd-4fb1-9276-b02b29db8bcf"
      },
      "outputs": [
        {
          "name": "stdout",
          "output_type": "stream",
          "text": [
            "Title: 12 ที่พักหมาแมวพักได้ ใกล้กรุงเทพ อัปเดต 2566 พาน้องไปด้วย ชิลสุดๆ\n",
            "Specific Element: None\n"
          ]
        }
      ],
      "source": [
        "import requests\n",
        "from bs4 import BeautifulSoup\n",
        "\n",
        "# Send an HTTP GET request to the URL\n",
        "url = \"https://travel.trueid.net/detail/rDvYykOdorNR\"\n",
        "response = requests.get(url)\n",
        "\n",
        "# Check if the request was successful\n",
        "if response.status_code == 200:\n",
        "    # Parse the HTML content of the page\n",
        "    soup = BeautifulSoup(response.text, 'html.parser')\n",
        "\n",
        "    # Extract information from the page by selecting HTML elements\n",
        "    # Example: Get the title of the page\n",
        "    title = soup.find('title').text\n",
        "\n",
        "    # Example: Get a specific element by class name\n",
        "    specific_element = soup.find('div', class_='your-class-name')\n",
        "\n",
        "    # Print the results\n",
        "    print(\"Title:\", title)\n",
        "    print(\"Specific Element:\", specific_element)\n",
        "\n",
        "else:\n",
        "    print(\"Failed to retrieve the page. Status code:\", response.status_code)\n"
      ]
    },
    {
      "cell_type": "code",
      "execution_count": 5,
      "metadata": {
        "colab": {
          "base_uri": "https://localhost:8080/"
        },
        "id": "MJZITIWlqIvo",
        "outputId": "7ec2fb7c-084c-41f4-d7b3-4b3df855ae9e"
      },
      "outputs": [
        {
          "name": "stdout",
          "output_type": "stream",
          "text": [
            "1. Bangsaen Heritage Hotel บางแสน ชลบุรี\n",
            "2. Hill Fresco Hotel Pattaya พัทยา ชลบุรี\n",
            "3. ปราณบุรี ดีไลท์ รีสอร์ท ปราณบุรี ประจวบคีรีขันธ์\n",
            "4. Anantasila Villa by the sea Hua Hin หัวหิน ประจวบคีรีขันธ์\n",
            "5. Baan Mesuk Pool Villa Spa & Resort ชะอำ เพชรบุรี\n",
            "6. Bandara On Sea Rayong ระยอง\n",
            "7. Thames Valley Khaoyai Hotel เขาใหญ่ นครราชสีมา\n",
            "8. Limon Villa Khao Yai เขาใหญ่ นครราชสีมา\n",
            "9. Thawsi Lake Hill กาญจนบุรี\n",
            "10. กอดอุ่น ริเวอร์แคว รีสอร์ท กาญจนบุรี\n",
            "11. Merito Beach Resort หาดเจ้าสำราญ เพชรบุรี\n",
            "12. Tamarina Resort บางแสน ชลบุรี\n",
            "Tag\n",
            "10 ที่เที่ยววันหยุด 2 วัน 1 คืน งบพันนิดๆ ทริปสั้นๆ เที่ยวไหนดี12 โรงแรมแมว กรุงเทพ ฝากแมว ก่อนไปเที่ยววันหยุดยาว ชิลได้ไม่ต้องห่วงเจ้าเหมียว!\n",
            "ที่อยู่ : ถนนบางแสน สาย 1 ตำบลแสนสุข อำเภอเมืองชลบุรี จังหวัดชลบุรีพิกัด : https://goo.gl/maps/wM8mkwniffjTo4q36โทร : 0-3839-9899เว็บไซต์ : https://www.facebook.com/bsheritagehotel\n",
            "ที่อยู่ : 359/109 หมู่ 12 ถนนพระตำหนัก อำเภอบางละมุง จังหวัดชลบุรีพิกัด : https://goo.gl/maps/9WgBfRHV8ytCjjhN9โทร : 08-1353-5224เว็บไซต์ : https://www.facebook.com/HillFrescopattaya\n",
            "ที่อยู่ : 177 หมู่ที่ 1 ตำบลสามร้อยยอด อำเภอปราณบุรี จังหวัดประจวบคีรีขันธ์พิกัด : https://goo.gl/maps/y9qb5Z4Yuy5xqq9X7โทร : 08-1171-0809เว็บไซต์ : https://www.facebook.com/pranburidelight\n",
            "ที่อยู่ : 9/1 ซอยบ้านสวนสน ตำบลหนองแก อำเภอหัวหิน จังหวัดประจวบคีรีขันธ์พิกัด : https://goo.gl/maps/VwG66H5LUQxroVTu8โทร : 08-1648-8364เว็บไซต์ : https://www.facebook.com/anantasila\n",
            "ที่อยู่ : 1500 ถนนชลประทาน ตำบลชะอำ อำเภอชะอำ จังหวัดเพชรบุรีพิกัด : https://goo.gl/maps/MTrQU7qHeApRhNdN7โทร : -เว็บไซต์ : https://www.facebook.com/baanmesukpoolvilla\n",
            "ที่อยู่ : 151 หมู่ 3  ตำบลชากพง อำเภอแกลง จังหวัดระยองพิกัด : https://goo.gl/maps/Lyya9Q393cmwjy5F8โทร : 0-3864-8550เว็บไซต์ : https://www.facebook.com/BandaraRayong\n",
            "ที่อยู่ : 999 หมู่ 4 ตำบลหมูสี อำเภอปากช่อง จังหวัดนครราชสีมาพิกัด : https://goo.gl/maps/4YACth2Qd5zvSxZTAโทร : 0-4400-9999เว็บไซต์ : https://www.facebook.com/ThamesValleyKhaoyaiHotel\n",
            "ที่อยู่ : 40/1 หมู่ 4 ตำบลโป่งตาลอง อำเภอปากช่อง จังหวัดนครราชสีมา พิกัด : https://goo.gl/maps/36FGkX6zR6VjGBS7Aโทร : 0-4430-0561เว็บไซต์ : https://www.facebook.com/limonvillakhaoyai\n",
            "ที่อยู่ : ตำบลท่ากระดาน อำเภอศรีสวัสดิ์ จังหวัดกาญจนบุรี พิกัด : https://goo.gl/maps/wpMRiA46t1xGMdBZ7โทร : 09-2927-7889เว็บไซต์ : https://www.facebook.com/thawsilakehill\n",
            "ที่อยู่ : 167 หมู่2​ ตำบล​วังดัง อำเภอเมืองกาญจนบุรี จังหวัดกาญจนบุรีพิกัด : https://goo.gl/maps/SqMaZrbG9otNvFwz5 โทร : 08-2755-2222เว็บไซต์ : https://www.facebook.com/กอดอุ่น-ริเวอร์แคว-รีสอร์ท\n",
            "ที่อยู่ : 150 หมู่ 2 ตำบลหาดเจ้าสำราญ อำเภอเมืองเพชรบุรี จังหวัดเพชรบุรีพิกัด : https://goo.gl/maps/yitCa2xyLDrCaMEAAโทร : 08-6001-3499เว็บไซต์ : https://www.facebook.com/เมอร์ริโต้-บีช-รีสอร์ท\n",
            "ที่อยู่ : 23/9 ซอยใบบัว ถนนบางแสน-อ่างศิลา ตำบลอ่างศิลา อำเภอเมืองชลบุรี จังหวัดชลบุรีพิกัด : https://goo.gl/maps/xerynftqzARMymib7โทร : 08-1782-9239เว็บไซต์ : https://www.facebook.com/Tamarina-Resort\n"
          ]
        }
      ],
      "source": [
        "import requests #รีควล\n",
        "from bs4 import BeautifulSoup #soup ดึงข้อมูล\n",
        "import urllib #urllib นี้สามารถเข้าถึงข้อมูลและดึงข้อมูลได้ไม่ว่าจะเป็น GET และ POST โดยไลบรารี urllib\n",
        "\n",
        "url = 'https://travel.trueid.net/detail/rDvYykOdorNR'\n",
        "page = urllib.request.urlopen(url)\n",
        "\n",
        "soup = BeautifulSoup(page, 'html.parser')\n",
        "\n",
        "# con = soup.find_all(\"h3\")\n",
        "# print(con.encode('utf-8'))\n",
        "\n",
        "for tags in soup.find_all('h3'):\n",
        "    print(tags.text)\n",
        "\n",
        "for ta in soup.find_all('ul'):\n",
        "    print(ta.text)\n"
      ]
    },
    {
      "cell_type": "markdown",
      "metadata": {},
      "source": []
    }
  ],
  "metadata": {
    "colab": {
      "authorship_tag": "ABX9TyOfbR5vcQFz2ON0nwHQH3TA",
      "include_colab_link": true,
      "provenance": []
    },
    "kernelspec": {
      "display_name": "Python 3",
      "name": "python3"
    },
    "language_info": {
      "codemirror_mode": {
        "name": "ipython",
        "version": 3
      },
      "file_extension": ".py",
      "mimetype": "text/x-python",
      "name": "python",
      "nbconvert_exporter": "python",
      "pygments_lexer": "ipython3",
      "version": "3.12.0"
    }
  },
  "nbformat": 4,
  "nbformat_minor": 0
}
