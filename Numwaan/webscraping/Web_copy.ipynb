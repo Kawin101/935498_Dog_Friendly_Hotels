{
  "cells": [
    {
      "cell_type": "markdown",
      "metadata": {
        "colab_type": "text",
        "id": "view-in-github"
      },
      "source": [
        "<a href=\"https://colab.research.google.com/github/Kawin101/935498_final-project/blob/main/Web_Scraping.ipynb\" target=\"_parent\"><img src=\"https://colab.research.google.com/assets/colab-badge.svg\" alt=\"Open In Colab\"/></a>"
      ]
    },
    {
      "cell_type": "markdown",
      "metadata": {},
      "source": []
    },
    {
      "cell_type": "code",
      "execution_count": 1,
      "metadata": {},
      "outputs": [
        {
          "name": "stdout",
          "output_type": "stream",
          "text": [
            "['\\n\\n\\n\\n\\n9fa7578f2a4ade897e55cfe57257c97a.jpg (43.62 KB, ดาวน์โหลดแล้ว: 15)\\n\\nดาวน์โหลด\\n\\n\\xa0บันทึกไว้ในอัลบั้ม\\n\\n2015-5-22 23:55 อัปโหลด\\n\\n\\n\\n\\n\\n', 'คอนโดสัตว์เลี้ยงเข้าพักได้ สำหรับคนรักหมาแมว หาที่พัก คอนโดราคาไม่แพง ราคาถูก หรือ หอพัก บ้านพัก ที่ให้น้องหมาแมว เข้าไปอยู่ด้วยได้ วันนี้มาแนะนำ กัน', '\\n\\n\\n\\n\\n142924bhrin6hea26izser.jpg (167.95 KB, ดาวน์โหลดแล้ว: 5)\\n\\nดาวน์โหลด\\n\\n\\xa0บันทึกไว้ในอัลบั้ม\\n\\n2018-10-6 15:01 อัปโหลด\\n\\n\\n\\n\\n', 'คอนโดเลี้ยงสัตว์ได้ คนรักหมา แมว เข้าพักได้ มีมากว่า 15 คอนโดที่รักสัตว์เลี้ยง \\n', 'Pet Friendly Condos แบบให้เช่าและซื้อ ห้องหรูหรา คลิก !!']\n"
          ]
        }
      ],
      "source": [
        "import requests\n",
        "from bs4 import BeautifulSoup\n",
        "\n",
        "url = \"https://www.dogthailand.net/forum.php?mod=viewthread&tid=66090&extra=page%3D1\"\n",
        "data = requests.get(url,headers={\"User-Agent\":\"Mozilla/5.0\"})\n",
        "soup = BeautifulSoup(data.text, 'html.parser')\n",
        "\n",
        "data1 = soup.find_all(\"div\",{\"align\":\"left\"})\n",
        "data1_list=[]\n",
        "\n",
        "for item in data1:\n",
        "    data1_list.append(item.text)\n",
        "\n",
        "print(data1_list)"
      ]
    },
    {
      "cell_type": "code",
      "execution_count": null,
      "metadata": {},
      "outputs": [],
      "source": []
    }
  ],
  "metadata": {
    "colab": {
      "authorship_tag": "ABX9TyOfbR5vcQFz2ON0nwHQH3TA",
      "include_colab_link": true,
      "provenance": []
    },
    "kernelspec": {
      "display_name": "Python 3",
      "name": "python3"
    },
    "language_info": {
      "codemirror_mode": {
        "name": "ipython",
        "version": 3
      },
      "file_extension": ".py",
      "mimetype": "text/x-python",
      "name": "python",
      "nbconvert_exporter": "python",
      "pygments_lexer": "ipython3",
      "version": "3.12.0"
    }
  },
  "nbformat": 4,
  "nbformat_minor": 0
}
