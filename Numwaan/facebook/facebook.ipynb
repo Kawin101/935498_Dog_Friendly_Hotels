{
  "cells": [
    {
      "cell_type": "markdown",
      "metadata": {
        "colab_type": "text",
        "id": "view-in-github"
      },
      "source": [
        "<a href=\"https://colab.research.google.com/github/Kawin101/935498_final-project/blob/main/Web_Scraping.ipynb\" target=\"_parent\"><img src=\"https://colab.research.google.com/assets/colab-badge.svg\" alt=\"Open In Colab\"/></a>"
      ]
    },
    {
      "cell_type": "code",
      "execution_count": 9,
      "metadata": {},
      "outputs": [
        {
          "name": "stdout",
          "output_type": "stream",
          "text": [
            "head_tag -> \n",
            "\n",
            "\n",
            "\n",
            "\n",
            "\n",
            "\n",
            "\n",
            "\n",
            "\n",
            "\n",
            "\n",
            "\n",
            "มะหมาไปเที่ยว พาน้องหมาเที่ยว\n",
            "\n",
            "\n",
            "[]\n",
            "[]\n"
          ]
        }
      ],
      "source": [
        "# import requests #รีควล\n",
        "from bs4 import BeautifulSoup #soup ดึงข้อมูล\n",
        "import urllib #urllib นี้สามารถเข้าถึงข้อมูลและดึงข้อมูลได้ไม่ว่าจะเป็น GET และ POST โดยไลบรารี urllib\n",
        "\n",
        "url = 'https://www.facebook.com/groups/1388644331636914'\n",
        "page = urllib.request.urlopen(url)\n",
        "\n",
        "soup = BeautifulSoup(page, 'html.parser')\n",
        "\n",
        "head_tag = soup.head\n",
        "print(\"head_tag ->\",head_tag.text)\n",
        "\n",
        "tags = soup.find_all(\"span\",{\"class\":\"xt0psk2\"})\n",
        "print(tags)\n",
        "\n",
        "data1 = soup.find_all(\"span\",{\"class\":\"xt0psk2\"})\n",
        "data1_list=[]\n",
        "\n",
        "for item in data1:\n",
        "    data1_list.append(item.text)\n",
        "\n",
        "print(data1_list)"
      ]
    },
    {
      "cell_type": "code",
      "execution_count": 10,
      "metadata": {},
      "outputs": [
        {
          "name": "stdout",
          "output_type": "stream",
          "text": [
            "Requirement already satisfied: requests in c:\\users\\thidarat\\appdata\\local\\programs\\python\\python312\\lib\\site-packages (2.31.0)\n",
            "Requirement already satisfied: charset-normalizer<4,>=2 in c:\\users\\thidarat\\appdata\\local\\programs\\python\\python312\\lib\\site-packages (from requests) (3.3.2)\n",
            "Requirement already satisfied: idna<4,>=2.5 in c:\\users\\thidarat\\appdata\\local\\programs\\python\\python312\\lib\\site-packages (from requests) (3.6)\n",
            "Requirement already satisfied: urllib3<3,>=1.21.1 in c:\\users\\thidarat\\appdata\\local\\programs\\python\\python312\\lib\\site-packages (from requests) (2.1.0)\n",
            "Requirement already satisfied: certifi>=2017.4.17 in c:\\users\\thidarat\\appdata\\local\\programs\\python\\python312\\lib\\site-packages (from requests) (2023.11.17)\n",
            "Note: you may need to restart the kernel to use updated packages.\n"
          ]
        },
        {
          "name": "stderr",
          "output_type": "stream",
          "text": [
            "\n",
            "[notice] A new release of pip is available: 23.2.1 -> 23.3.1\n",
            "[notice] To update, run: python.exe -m pip install --upgrade pip\n"
          ]
        }
      ],
      "source": [
        "pip install requests"
      ]
    },
    {
      "cell_type": "code",
      "execution_count": 1,
      "metadata": {},
      "outputs": [
        {
          "name": "stdout",
          "output_type": "stream",
          "text": [
            "Collecting beautifulsoup4\n",
            "  Downloading beautifulsoup4-4.12.2-py3-none-any.whl (142 kB)\n",
            "     ---------------------------------------- 0.0/143.0 kB ? eta -:--:--\n",
            "     ---------------------------------------- 0.0/143.0 kB ? eta -:--:--\n",
            "     -- ------------------------------------- 10.2/143.0 kB ? eta -:--:--\n",
            "     -- ------------------------------------- 10.2/143.0 kB ? eta -:--:--\n",
            "     ------- ----------------------------- 30.7/143.0 kB 262.6 kB/s eta 0:00:01\n",
            "     --------------- --------------------- 61.4/143.0 kB 326.1 kB/s eta 0:00:01\n",
            "     ------------------------------------ 143.0/143.0 kB 653.9 kB/s eta 0:00:00\n",
            "Collecting soupsieve>1.2 (from beautifulsoup4)\n",
            "  Obtaining dependency information for soupsieve>1.2 from https://files.pythonhosted.org/packages/4c/f3/038b302fdfbe3be7da016777069f26ceefe11a681055ea1f7817546508e3/soupsieve-2.5-py3-none-any.whl.metadata\n",
            "  Downloading soupsieve-2.5-py3-none-any.whl.metadata (4.7 kB)\n",
            "Downloading soupsieve-2.5-py3-none-any.whl (36 kB)\n",
            "Installing collected packages: soupsieve, beautifulsoup4\n",
            "Successfully installed beautifulsoup4-4.12.2 soupsieve-2.5\n",
            "Note: you may need to restart the kernel to use updated packages.\n"
          ]
        },
        {
          "name": "stderr",
          "output_type": "stream",
          "text": [
            "\n",
            "[notice] A new release of pip is available: 23.2.1 -> 23.3.1\n",
            "[notice] To update, run: python.exe -m pip install --upgrade pip\n"
          ]
        }
      ],
      "source": [
        "pip install beautifulsoup4"
      ]
    }
  ],
  "metadata": {
    "colab": {
      "authorship_tag": "ABX9TyOfbR5vcQFz2ON0nwHQH3TA",
      "include_colab_link": true,
      "provenance": []
    },
    "kernelspec": {
      "display_name": "Python 3",
      "name": "python3"
    },
    "language_info": {
      "codemirror_mode": {
        "name": "ipython",
        "version": 3
      },
      "file_extension": ".py",
      "mimetype": "text/x-python",
      "name": "python",
      "nbconvert_exporter": "python",
      "pygments_lexer": "ipython3",
      "version": "3.12.0"
    }
  },
  "nbformat": 4,
  "nbformat_minor": 0
}
